{
  "nbformat": 4,
  "nbformat_minor": 0,
  "metadata": {
    "colab": {
      "name": "pneumothorax fastai starter U-Net 128x128",
      "version": "0.3.2",
      "provenance": [],
      "include_colab_link": true
    },
    "kernelspec": {
      "name": "python3",
      "display_name": "Python 3"
    },
    "accelerator": "GPU"
  },
  "cells": [
    {
      "cell_type": "markdown",
      "metadata": {
        "id": "view-in-github",
        "colab_type": "text"
      },
      "source": [
        "<a href=\"https://colab.research.google.com/github/oneraghavan/AlgorithmsNYC/blob/master/notebooks%20/comps/pneumothorax/pneumothorax_fastai_starter_U_Net_128x128.ipynb\" target=\"_parent\"><img src=\"https://colab.research.google.com/assets/colab-badge.svg\" alt=\"Open In Colab\"/></a>"
      ]
    },
    {
      "cell_type": "code",
      "metadata": {
        "id": "gwGCcOCSsiH8",
        "colab_type": "code",
        "colab": {
          "base_uri": "https://localhost:8080/",
          "height": 309
        },
        "outputId": "a94a155f-2d98-4b05-ad70-e258d583969a"
      },
      "source": [
        "!pip install kaggle\n",
        "!pip install pydicom"
      ],
      "execution_count": 71,
      "outputs": [
        {
          "output_type": "stream",
          "text": [
            "Requirement already satisfied: kaggle in /usr/local/lib/python3.6/dist-packages (1.5.4)\n",
            "Requirement already satisfied: six>=1.10 in /usr/local/lib/python3.6/dist-packages (from kaggle) (1.12.0)\n",
            "Requirement already satisfied: urllib3<1.25,>=1.21.1 in /usr/local/lib/python3.6/dist-packages (from kaggle) (1.24.3)\n",
            "Requirement already satisfied: tqdm in /usr/local/lib/python3.6/dist-packages (from kaggle) (4.28.1)\n",
            "Requirement already satisfied: certifi in /usr/local/lib/python3.6/dist-packages (from kaggle) (2019.6.16)\n",
            "Requirement already satisfied: requests in /usr/local/lib/python3.6/dist-packages (from kaggle) (2.21.0)\n",
            "Requirement already satisfied: python-dateutil in /usr/local/lib/python3.6/dist-packages (from kaggle) (2.5.3)\n",
            "Requirement already satisfied: python-slugify in /usr/local/lib/python3.6/dist-packages (from kaggle) (3.0.2)\n",
            "Requirement already satisfied: idna<2.9,>=2.5 in /usr/local/lib/python3.6/dist-packages (from requests->kaggle) (2.8)\n",
            "Requirement already satisfied: chardet<3.1.0,>=3.0.2 in /usr/local/lib/python3.6/dist-packages (from requests->kaggle) (3.0.4)\n",
            "Requirement already satisfied: text-unidecode==1.2 in /usr/local/lib/python3.6/dist-packages (from python-slugify->kaggle) (1.2)\n",
            "Collecting pydicom\n",
            "\u001b[?25l  Downloading https://files.pythonhosted.org/packages/43/88/d3c419ab2e753e7651510882a53219373e78fb55294cb247dffd3934ea55/pydicom-1.2.2-py2.py3-none-any.whl (7.0MB)\n",
            "\u001b[K     |████████████████████████████████| 7.0MB 8.0MB/s \n",
            "\u001b[?25hInstalling collected packages: pydicom\n",
            "Successfully installed pydicom-1.2.2\n"
          ],
          "name": "stdout"
        }
      ]
    },
    {
      "cell_type": "code",
      "metadata": {
        "id": "e1am_tMwsolo",
        "colab_type": "code",
        "colab": {
          "base_uri": "https://localhost:8080/",
          "height": 122
        },
        "outputId": "13953686-4f39-4a9a-aa2b-64760bdd3406"
      },
      "source": [
        "from google.colab import drive\n",
        "drive.mount('/content/gdrive')"
      ],
      "execution_count": 2,
      "outputs": [
        {
          "output_type": "stream",
          "text": [
            "Go to this URL in a browser: https://accounts.google.com/o/oauth2/auth?client_id=947318989803-6bn6qk8qdgf4n4g3pfee6491hc0brc4i.apps.googleusercontent.com&redirect_uri=urn%3Aietf%3Awg%3Aoauth%3A2.0%3Aoob&scope=email%20https%3A%2F%2Fwww.googleapis.com%2Fauth%2Fdocs.test%20https%3A%2F%2Fwww.googleapis.com%2Fauth%2Fdrive%20https%3A%2F%2Fwww.googleapis.com%2Fauth%2Fdrive.photos.readonly%20https%3A%2F%2Fwww.googleapis.com%2Fauth%2Fpeopleapi.readonly&response_type=code\n",
            "\n",
            "Enter your authorization code:\n",
            "··········\n",
            "Mounted at /content/gdrive\n"
          ],
          "name": "stdout"
        }
      ]
    },
    {
      "cell_type": "code",
      "metadata": {
        "id": "Pez_NxCctJbM",
        "colab_type": "code",
        "colab": {}
      },
      "source": [
        "mkdir ~/.kaggle"
      ],
      "execution_count": 0,
      "outputs": []
    },
    {
      "cell_type": "code",
      "metadata": {
        "id": "us93LDRfsuKj",
        "colab_type": "code",
        "colab": {}
      },
      "source": [
        "!cp gdrive/My\\ Drive/kaggle.json ~/.kaggle"
      ],
      "execution_count": 0,
      "outputs": []
    },
    {
      "cell_type": "code",
      "metadata": {
        "id": "FxnRLtPwveyO",
        "colab_type": "code",
        "colab": {}
      },
      "source": [
        "!cp gdrive/My\\ Drive/istio-3a8f1c0fda5f.json ."
      ],
      "execution_count": 0,
      "outputs": []
    },
    {
      "cell_type": "code",
      "metadata": {
        "id": "tJ24EvMws3_L",
        "colab_type": "code",
        "colab": {
          "base_uri": "https://localhost:8080/",
          "height": 34
        },
        "outputId": "d8fcf07c-60f1-467d-db5d-f8c5ee6da199"
      },
      "source": [
        "ls /root/.kaggle/"
      ],
      "execution_count": 11,
      "outputs": [
        {
          "output_type": "stream",
          "text": [
            "kaggle.json\n"
          ],
          "name": "stdout"
        }
      ]
    },
    {
      "cell_type": "code",
      "metadata": {
        "id": "yn9fxycWtRrZ",
        "colab_type": "code",
        "colab": {
          "base_uri": "https://localhost:8080/",
          "height": 207
        },
        "outputId": "70b2ee05-a5eb-4243-a870-8deb4f6bdf02"
      },
      "source": [
        "!kaggle datasets list -s Pneumothorax"
      ],
      "execution_count": 43,
      "outputs": [
        {
          "output_type": "stream",
          "text": [
            "ref                                                           title                                               size  lastUpdated          downloadCount  \n",
            "------------------------------------------------------------  --------------------------------------------------  ----  -------------------  -------------  \n",
            "jesperdramsch/siim-acr-pneumothorax-segmentation-data         SIIM ACR Pneumothorax Segmentation Data              2GB  2019-06-25 20:18:45            464  \n",
            "anisayari/siimacrpneumothoraxsegmentationzip-dataset          siim-acr-pneumothorax-segmentation.zip dataset       6GB  2019-06-27 09:31:46            326  \n",
            "tanreinama/siimacr-pneumothorax-segmentation-downloaded-file  SIIM-ACR Pneumothorax Segmentation Downloaded File   2GB  2019-06-26 00:56:41             19  \n",
            "robertburbidge/pneumothorax_small                             Pneumothorax 128x128                                92MB  2019-06-29 13:33:28              0  \n",
            "adityaecdrid/xtra-pneumothorax-dataset                        xtra_pneumothorax_dataset                            1GB  2019-06-29 14:17:10              0  \n",
            "nih-chest-xrays/data                                          NIH Chest X-rays                                    42GB  2018-02-21 20:52:23          21214  \n",
            "nih-chest-xrays/sample                                        Random Sample of NIH Chest X-ray Dataset             2GB  2017-11-23 02:58:24           4725  \n",
            "bashturtle/siim_acr_jpeg                                      JP2 Images for SIIM ACR Challenge Kaggle             5GB  2019-06-26 14:40:08              4  \n"
          ],
          "name": "stdout"
        }
      ]
    },
    {
      "cell_type": "code",
      "metadata": {
        "id": "BSkpR9ezuitQ",
        "colab_type": "code",
        "colab": {
          "base_uri": "https://localhost:8080/",
          "height": 68
        },
        "outputId": "99972981-2be4-4b14-adb6-1792c2c2dcc9"
      },
      "source": [
        "!kaggle datasets download jesperdramsch/siim-acr-pneumothorax-segmentation-data"
      ],
      "execution_count": 48,
      "outputs": [
        {
          "output_type": "stream",
          "text": [
            "Downloading siim-acr-pneumothorax-segmentation-data.zip to /content\n",
            " 99% 1.51G/1.52G [00:21<00:00, 137MB/s]\n",
            "100% 1.52G/1.52G [00:21<00:00, 76.6MB/s]\n"
          ],
          "name": "stdout"
        }
      ]
    },
    {
      "cell_type": "code",
      "metadata": {
        "id": "2Et1xe0EuoGh",
        "colab_type": "code",
        "colab": {}
      },
      "source": [
        "!unzip siim-acr-pneumothorax-segmentation-data.zip"
      ],
      "execution_count": 0,
      "outputs": []
    },
    {
      "cell_type": "markdown",
      "metadata": {
        "id": "9sW1P1Ew3OUF",
        "colab_type": "text"
      },
      "source": [
        "# Extract images"
      ]
    },
    {
      "cell_type": "code",
      "metadata": {
        "id": "AentJZhRu21K",
        "colab_type": "code",
        "colab": {
          "base_uri": "https://localhost:8080/",
          "height": 54
        },
        "outputId": "06dd326a-e0ed-4218-a30a-041a59c2eeb4"
      },
      "source": [
        "import numpy as np # linear algebra\n",
        "import pandas as pd # data processing, CSV file I/O (e.g. pd.read_csv)\n",
        "\n",
        "# Input data files are available in the \"../input/\" directory.\n",
        "# For example, running this (by clicking run or pressing Shift+Enter) will list the files in the input directory\n",
        "\n",
        "import os\n",
        "print(os.listdir(\".\"))"
      ],
      "execution_count": 69,
      "outputs": [
        {
          "output_type": "stream",
          "text": [
            "['.config', 'dicom-images-test', 'siim-acr-pneumothorax-segmentation-data.zip', 'gdrive', 'download_images.py', 'dicom-images-train', 'train-rle.csv', 'mask_functions.py', 'pneumothorax-fastai-starter-u-net-128x128.ipynb']\n"
          ],
          "name": "stdout"
        }
      ]
    },
    {
      "cell_type": "code",
      "metadata": {
        "id": "IbhjXhaQwer2",
        "colab_type": "code",
        "colab": {}
      },
      "source": [
        "# Convert DICOM to PNG via openCV\n",
        "import cv2\n",
        "import os\n",
        "import pydicom\n",
        "import glob\n",
        "!rm -rf dicom-images-test-images\n",
        "inputdir = 'dicom-images-test'\n",
        "outdir = 'test'\n",
        "os.mkdir(outdir)\n",
        "\n",
        "for f in glob.glob(inputdir + '/*/*/*.dcm'):\n",
        "    ds = pydicom.read_file(f) # read dicom image\n",
        "    img = ds.pixel_array # get image array\n",
        "    cv2.imwrite(outdir + \"/\"+f.split(\"/\")[-1].replace('.dcm','.png'),img) # write png image"
      ],
      "execution_count": 0,
      "outputs": []
    },
    {
      "cell_type": "code",
      "metadata": {
        "id": "SqnrsAzc3qNY",
        "colab_type": "code",
        "colab": {}
      },
      "source": [
        "!wc -l ls test/"
      ],
      "execution_count": 0,
      "outputs": []
    },
    {
      "cell_type": "code",
      "metadata": {
        "id": "kdqL0Y_07brf",
        "colab_type": "code",
        "colab": {}
      },
      "source": [
        "# Convert DICOM to PNG via openCV\n",
        "import cv2\n",
        "import os\n",
        "import pydicom\n",
        "import glob\n",
        "!rm -rf dicom-images-test-images\n",
        "inputdir = 'dicom-images-train'\n",
        "outdir = 'train'\n",
        "os.mkdir(outdir)\n",
        "\n",
        "for f in glob.glob(inputdir + '/*/*/*.dcm'):\n",
        "    ds = pydicom.read_file(f) # read dicom image\n",
        "    img = ds.pixel_array # get image array\n",
        "    cv2.imwrite(outdir + \"/\"+f.split(\"/\")[-1].replace('.dcm','.png'),img) # write png image"
      ],
      "execution_count": 0,
      "outputs": []
    },
    {
      "cell_type": "code",
      "metadata": {
        "id": "gFssx9j29Am0",
        "colab_type": "code",
        "colab": {}
      },
      "source": [
        "!wc -l ls test/"
      ],
      "execution_count": 0,
      "outputs": []
    },
    {
      "cell_type": "code",
      "metadata": {
        "id": "wTrlKyb09D1r",
        "colab_type": "code",
        "colab": {}
      },
      "source": [
        ""
      ],
      "execution_count": 0,
      "outputs": []
    }
  ]
}